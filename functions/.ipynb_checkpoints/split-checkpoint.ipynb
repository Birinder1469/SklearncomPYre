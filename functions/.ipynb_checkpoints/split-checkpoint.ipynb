{
 "cells": [
  {
   "cell_type": "code",
   "execution_count": null,
   "metadata": {},
   "outputs": [],
   "source": [
    "def split(X,y,ptrain,ptest,pvalid):\n",
    "    \n",
    "    \n",
    "    \"\"\"\n",
    "    The function splits the training input samples X, and target values y \n",
    "    (class labels in classification, real numbers in regression) into train, \n",
    "    test and validation sets according to specified proportions.\n",
    "\n",
    "    The function Outputs four array like training, validation, test, and \n",
    "    combined training and validation sets and four y arrays. \n",
    "\n",
    "    Inputs:\n",
    "\n",
    "    X data set, type: Array like\n",
    "    Y data set, type: Array like\n",
    "    proportion of training data , type: float\n",
    "    proportion of test data , type: float\n",
    "    proportion of validation data, type: float\n",
    "    \n",
    "    Outputs:\n",
    "\n",
    "    X train set, type: Array like\n",
    "    y train, type: Array like\n",
    "    X validation set, type: Array like\n",
    "    y validation, type: Array like\n",
    "    X train and validation set, type: Array like\n",
    "    y train and validation, type: Array like\n",
    "    X test set, type: Array like\n",
    "    y test, type: Array like\n",
    "    \n",
    "    \"\"\"\n",
    "    \n",
    "    return (X_train,y_train,X_validation, y_validation,X_train_validation,y_train_validation,X_test,y_test)"
   ]
  }
 ],
 "metadata": {
  "kernelspec": {
   "display_name": "Python 3",
   "language": "python",
   "name": "python3"
  },
  "language_info": {
   "codemirror_mode": {
    "name": "ipython",
    "version": 3
   },
   "file_extension": ".py",
   "mimetype": "text/x-python",
   "name": "python",
   "nbconvert_exporter": "python",
   "pygments_lexer": "ipython3",
   "version": "3.6.5"
  }
 },
 "nbformat": 4,
 "nbformat_minor": 2
}
