{
 "cells": [
  {
   "cell_type": "code",
   "execution_count": null,
   "metadata": {},
   "outputs": [],
   "source": [
    "def train_test_acc_time(models,X_train,y_train,X_test,y_test):\n",
    "    \n",
    "    \"\"\"\n",
    "    \n",
    "    The purpose of this function is to compare different sklearn regressors or classifiers in terms \n",
    "    of training and test accuracies, and the time it takes to fit and predict. \n",
    "    The function inputs are dictionary of models, input train samples `Xtrain`(input features), \n",
    "    input test samples `Xtest`, target train values `ytrain` and target test values `ytest` \n",
    "    (continuous or categorical).\n",
    "    \n",
    "    The function outputs a beautiful dataframe with training & test scores, \n",
    "    model variance, and the time it takes to fit and predict using different models.  \n",
    "\n",
    "  Inputs:\n",
    "\n",
    "    - Dictionary of ML classifiers or regressors.\n",
    "    - X train set: `Array-like `\n",
    "    - Y train set: `Array-like`\n",
    "    - X test set: `Array-like `\n",
    "    - Y test set: `Array-like`\n",
    "\n",
    "  Outputs:\n",
    "\n",
    "    Dataframe with 7 columns: \n",
    "    - regressor or classifier name \n",
    "    - training accuracy \n",
    "    - test accuracy \n",
    "    - model variance \n",
    "    - time it takes to fit \n",
    "    - time it takes to predict \n",
    "    - total time \n",
    " \n",
    "     The dataframe will be sorted by test score in descending order.\n",
    " \n",
    "     \"\"\"\n",
    "    \n",
    "    \n",
    "    return (result)"
   ]
  }
 ],
 "metadata": {
  "kernelspec": {
   "display_name": "Python 3",
   "language": "python",
   "name": "python3"
  },
  "language_info": {
   "codemirror_mode": {
    "name": "ipython",
    "version": 3
   },
   "file_extension": ".py",
   "mimetype": "text/x-python",
   "name": "python",
   "nbconvert_exporter": "python",
   "pygments_lexer": "ipython3",
   "version": "3.6.5"
  }
 },
 "nbformat": 4,
 "nbformat_minor": 2
}
