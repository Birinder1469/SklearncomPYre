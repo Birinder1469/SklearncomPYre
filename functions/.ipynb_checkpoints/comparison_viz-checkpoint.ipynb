{
 "cells": [
  {
   "cell_type": "code",
   "execution_count": null,
   "metadata": {},
   "outputs": [],
   "source": [
    "def comparison_viz(comparison, choice):\n",
    "    \n",
    "      \"\"\"\n",
    "      \n",
    "      The purpose of the function is to help User visualize the comparison of accuracies or time given in the comparison \n",
    "      dataframe. It takes in a dataframe with 7 attributes i.e. model name, training & test scores, model variance, \n",
    "      and the time it takes to fit, predict model and total time taken for both fit and predict. \n",
    "      \n",
    "      The function outputs(saves in the root directory) a beautiful <a href=\"https://matplotlib.org\">matplotlib</a> \n",
    "      bar chart comparison of different models' training and test scores or the time it takes to fit and predict. \n",
    "        \n",
    "      Parameters :\n",
    "      \n",
    "      Inputs:   \n",
    "\n",
    "      comparison : Dataframe with 7 columns: \n",
    "      - regressor or classifier name \n",
    "      - training accuracy \n",
    "      - test accuracy \n",
    "      - model variance \n",
    "      - time it takes to fit \n",
    "      - time it takes to predict and \n",
    "      - total time. Type: `pandas.Dataframe\n",
    "      - Choice of `accuracy` or `time`. Type: `string`\n",
    "\n",
    "      Outputs:\n",
    "\n",
    "      - Bar chart of accuracies or time comparison by models. Type: `png` \n",
    "                    \n",
    "        \"\"\"\n",
    "    \n",
    "    \n"
   ]
  }
 ],
 "metadata": {
  "kernelspec": {
   "display_name": "Python 3",
   "language": "python",
   "name": "python3"
  },
  "language_info": {
   "codemirror_mode": {
    "name": "ipython",
    "version": 3
   },
   "file_extension": ".py",
   "mimetype": "text/x-python",
   "name": "python",
   "nbconvert_exporter": "python",
   "pygments_lexer": "ipython3",
   "version": "3.6.5"
  }
 },
 "nbformat": 4,
 "nbformat_minor": 2
}
